{
 "cells": [
  {
   "cell_type": "code",
   "execution_count": null,
   "metadata": {
    "pycharm": {
     "name": "#%%\n"
    }
   },
   "outputs": [],
   "source": [
    "%load_ext autoreload\n",
    "\n",
    "%autoreload 2"
   ]
  },
  {
   "cell_type": "code",
   "execution_count": null,
   "metadata": {
    "collapsed": false,
    "pycharm": {
     "name": "#%%\n"
    }
   },
   "outputs": [],
   "source": [
    "from src.clustering.pipeline_helper import PipelineHelper, describe_intents"
   ]
  },
  {
   "cell_type": "code",
   "execution_count": null,
   "metadata": {
    "pycharm": {
     "name": "#%%\n"
    }
   },
   "outputs": [],
   "source": [
    "pipeline = PipelineHelper(embedding_name='use', actor='patient', k=82, sub_folder_k='k100/')\n",
    "\n",
    "pipeline.run_clustering()"
   ]
  },
  {
   "cell_type": "code",
   "execution_count": null,
   "metadata": {
    "pycharm": {
     "name": "#%%\n"
    }
   },
   "outputs": [],
   "source": [
    "pipeline.visualize_distance_distribution()"
   ]
  },
  {
   "cell_type": "code",
   "execution_count": null,
   "metadata": {
    "pycharm": {
     "name": "#%%\n"
    }
   },
   "outputs": [],
   "source": [
    "pipeline.visualize_tsne()"
   ]
  },
  {
   "cell_type": "code",
   "execution_count": null,
   "metadata": {
    "pycharm": {
     "name": "#%%\n"
    },
    "scrolled": true
   },
   "outputs": [],
   "source": [
    "pipeline.visualize_word_clouds()"
   ]
  },
  {
   "cell_type": "code",
   "execution_count": null,
   "metadata": {
    "collapsed": false,
    "pycharm": {
     "name": "#%%\n"
    }
   },
   "outputs": [],
   "source": [
    "dict_intents = {\n",
    "     0: 'others', #mixed\n",
    "     1: 'inform_symptoms',\n",
    "     2: 'others', #mixed\n",
    "     3: 'inform_symptoms',\n",
    "     4: 'others', #mixed\n",
    "     5: 'inform_medicine',\n",
    "     6: 'request_inform',\n",
    "     7: 'others', #negative #greeting\n",
    "     8: 'others', #mixed\n",
    "     9: 'request_inform',\n",
    "    10: 'others', #names #address\n",
    "    11: 'others', #mixed\n",
    "    12: 'request_inform',\n",
    "    13: 'inform_symptoms',\n",
    "    14: 'inform_symptoms',\n",
    "    15: 'inform_symptoms',\n",
    "    16: 'inform_medicine',\n",
    "    17: 'inform_symptoms',\n",
    "    18: 'others', #mixed #greeting\n",
    "    19: 'request_inform',\n",
    "    20: 'others', #inform_when\n",
    "    21: 'others', #request_inform\n",
    "    22: 'others', #inform_amount\n",
    "    23: 'others', #mixed\n",
    "    24: 'request_inform',\n",
    "    25: 'greeting',\n",
    "    26: 'inform_symptoms',\n",
    "    27: 'inform_symptoms',\n",
    "    28: 'others', #mixed #inform\n",
    "    29: 'others', #mixed #inform\n",
    "    30: 'inform_symptoms',\n",
    "    31: 'others', #mixed #inform_better\n",
    "    32: 'others', #mixed #negative\n",
    "    33: 'inform_symptoms',\n",
    "    34: 'inform_symptoms',\n",
    "    35: 'request_inform',\n",
    "    36: 'others', #inform_temperature\n",
    "    37: 'others', #inform #negative\n",
    "    38: 'inform_symptoms',\n",
    "    39: 'inform_symptoms',\n",
    "    40: 'inform_medicine',\n",
    "    41: 'others', #mixed\n",
    "    42: 'inform_symptoms',\n",
    "    43: 'others', #inform #positive\n",
    "    44: 'others', #mixed #inform\n",
    "    45: 'greeting',\n",
    "    46: 'inform_symptoms',\n",
    "    47: 'inform_symptoms',\n",
    "    48: 'inform_symptoms',\n",
    "    49: 'inform_medicine',\n",
    "    50: 'greeting',\n",
    "    51: 'others', #mixed #sympthoms\n",
    "    52: 'greeting',\n",
    "    53: 'request_inform',\n",
    "    54: 'inform_symptoms',\n",
    "    55: 'others', #mixed #inform_when\n",
    "    56: 'inform_symptoms',\n",
    "    57: 'others', #mixed\n",
    "    58: 'others', #general\n",
    "    59: 'inform_symptoms',\n",
    "    60: 'others', #mixed\n",
    "    61: 'request_inform',\n",
    "    62: 'others', #mixed\n",
    "    63: 'inform_symptoms',\n",
    "    64: 'others', #mixed\n",
    "    65: 'others', #inform_afraid\n",
    "    66: 'others', #mixed\n",
    "    67: 'others', #mixed\n",
    "    68: 'others', #address\n",
    "    69: 'inform_medicine',\n",
    "    70: 'inform_symptoms',\n",
    "    71: 'inform_medicine',\n",
    "    72: 'others', #mixed\n",
    "    73: 'others', #mixed #inform\n",
    "    74: 'others', #mixed #inform_better\n",
    "    75: 'others', #mixed\n",
    "    76: 'others', #mixed\n",
    "    77: 'others', #mixed #age\n",
    "    78: 'others', #mixed #general\n",
    "    79: 'others', #mixed #small_sentences\n",
    "    80: 'others', #mixed\n",
    "    81: 'inform_symptoms',\n",
    "}"
   ]
  },
  {
   "cell_type": "code",
   "execution_count": null,
   "metadata": {
    "collapsed": false,
    "pycharm": {
     "name": "#%%\n"
    }
   },
   "outputs": [],
   "source": [
    "describe_intents(dict_intents, pipeline.data_helper.df)"
   ]
  },
  {
   "cell_type": "code",
   "execution_count": null,
   "metadata": {
    "collapsed": false,
    "pycharm": {
     "name": "#%%\n"
    }
   },
   "outputs": [],
   "source": [
    "pipeline.annotate_data(dict_intents)"
   ]
  },
  {
   "cell_type": "code",
   "execution_count": null,
   "metadata": {
    "pycharm": {
     "name": "#%%\n"
    }
   },
   "outputs": [],
   "source": [
    "pipeline.annotate_data_without_outliers(sub_folder_k='k100_without_outliers/', dict_intents=dict_intents)"
   ]
  },
  {
   "cell_type": "code",
   "execution_count": null,
   "metadata": {
    "collapsed": false,
    "pycharm": {
     "name": "#%%\n"
    }
   },
   "outputs": [],
   "source": [
    "pipeline.annotate_data_without_sentences_higher_than_median(sub_folder_k='k100_without_sentences_higher_than_median/', dict_intents=dict_intents)"
   ]
  },
  {
   "cell_type": "code",
   "execution_count": null,
   "metadata": {
    "collapsed": false,
    "pycharm": {
     "name": "#%%\n"
    }
   },
   "outputs": [],
   "source": []
  }
 ],
 "metadata": {
  "kernelspec": {
   "display_name": "Python 3 (ipykernel)",
   "language": "python",
   "name": "python3"
  },
  "language_info": {
   "codemirror_mode": {
    "name": "ipython",
    "version": 3
   },
   "file_extension": ".py",
   "mimetype": "text/x-python",
   "name": "python",
   "nbconvert_exporter": "python",
   "pygments_lexer": "ipython3",
   "version": "3.9.7"
  }
 },
 "nbformat": 4,
 "nbformat_minor": 1
}
