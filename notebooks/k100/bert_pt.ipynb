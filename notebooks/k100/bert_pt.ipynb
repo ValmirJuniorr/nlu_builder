{
 "cells": [
  {
   "cell_type": "code",
   "execution_count": null,
   "metadata": {
    "pycharm": {
     "name": "#%%\n"
    }
   },
   "outputs": [],
   "source": [
    "%load_ext autoreload\n",
    "\n",
    "%autoreload 2"
   ]
  },
  {
   "cell_type": "code",
   "execution_count": null,
   "metadata": {
    "collapsed": false,
    "pycharm": {
     "name": "#%%\n"
    }
   },
   "outputs": [],
   "source": [
    "from src.clustering.pipeline_helper import PipelineHelper, describe_intents"
   ]
  },
  {
   "cell_type": "code",
   "execution_count": null,
   "metadata": {
    "pycharm": {
     "name": "#%%\n"
    }
   },
   "outputs": [],
   "source": [
    "pipeline = PipelineHelper(embedding_name='bert_pt', actor='patient', k=91, sub_folder_k='k100/')\n",
    "\n",
    "pipeline.run_clustering()"
   ]
  },
  {
   "cell_type": "code",
   "execution_count": null,
   "metadata": {
    "pycharm": {
     "name": "#%%\n"
    }
   },
   "outputs": [],
   "source": [
    "pipeline.visualize_distance_distribution()"
   ]
  },
  {
   "cell_type": "code",
   "execution_count": null,
   "metadata": {
    "pycharm": {
     "name": "#%%\n"
    }
   },
   "outputs": [],
   "source": [
    "pipeline.visualize_tsne()"
   ]
  },
  {
   "cell_type": "code",
   "execution_count": null,
   "metadata": {
    "pycharm": {
     "name": "#%%\n"
    },
    "scrolled": true
   },
   "outputs": [],
   "source": [
    "pipeline.visualize_word_clouds()"
   ]
  },
  {
   "cell_type": "code",
   "execution_count": null,
   "metadata": {
    "collapsed": false,
    "pycharm": {
     "name": "#%%\n"
    }
   },
   "outputs": [],
   "source": [
    "dict_intents = {\n",
    "     0: 'others', #general\n",
    "     1: 'others', #general\n",
    "     2: 'others', #general\n",
    "     3: 'others', #general\n",
    "     4: 'others', #general\n",
    "     5: 'inform_medicine',\n",
    "     6: 'request_inform',\n",
    "     7: 'greeting',\n",
    "     8: 'others', #general\n",
    "     9: 'request_inform',\n",
    "    10: 'others', #general\n",
    "    11: 'inform_symptoms',\n",
    "    12: 'request_inform',\n",
    "    13: 'inform_symptoms',\n",
    "    14: 'others', #mixed\n",
    "    15: 'inform_symptoms',\n",
    "    16: 'inform_medicine',\n",
    "    17: 'others', #mixed\n",
    "    18: 'others', #small_sentences\n",
    "    19: 'others', #positive\n",
    "    20: 'others', #temperature\n",
    "    21: 'inform_symptoms',\n",
    "    22: 'others', #mixed\n",
    "    23: 'others', #inform_when\n",
    "    24: 'request_inform',\n",
    "    25: 'inform_symptoms',\n",
    "    26: 'others', #general\n",
    "    27: 'inform_symptoms',\n",
    "    28: 'inform_symptoms',\n",
    "    29: 'others', #mixed\n",
    "    30: 'inform_symptoms',\n",
    "    31: 'others', #mixed\n",
    "    32: 'greeting',\n",
    "    33: 'inform_symptoms',\n",
    "    34: 'inform_symptoms',\n",
    "    35: 'greeting',\n",
    "    36: 'inform_symptoms',\n",
    "    37: 'inform_symptoms',\n",
    "    38: 'inform_symptoms',\n",
    "    39: 'inform_symptoms',\n",
    "    40: 'inform_medicine',\n",
    "    41: 'request_inform',\n",
    "    42: 'request_inform',\n",
    "    43: 'others', #small_sentences\n",
    "    44: 'others', #general\n",
    "    45: 'greeting',\n",
    "    46: 'inform_symptoms',\n",
    "    47: 'inform_symptoms',\n",
    "    48: 'inform_symptoms',\n",
    "    49: 'request_inform',\n",
    "    50: 'greeting',\n",
    "    51: 'request_inform',\n",
    "    52: 'greeting',\n",
    "    53: 'inform_symptoms',\n",
    "    54: 'inform_symptoms',\n",
    "    55: 'greeting',\n",
    "    56: 'others', #mixed\n",
    "    57: 'others', #mixed\n",
    "    58: 'others', #general\n",
    "    59: 'inform_symptoms',\n",
    "    60: 'greeting',\n",
    "    61: 'greeting',\n",
    "    62: 'greeting',\n",
    "    63: 'inform_symptoms',\n",
    "    64: 'inform_symptoms',\n",
    "    65: 'inform_symptoms',\n",
    "    66: 'others', #general\n",
    "    67: 'greeting',\n",
    "    68: 'others', #address\n",
    "    69: 'greeting',\n",
    "    70: 'inform_medicine',\n",
    "    71: 'inform_symptoms',\n",
    "    72: 'others', #inform\n",
    "    73: 'others', #mixed\n",
    "    74: 'others', #inform\n",
    "    75: 'others', #inform\n",
    "    76: 'others', #inform\n",
    "    77: 'others', #inform\n",
    "    78: 'others', #inform\n",
    "    79: 'inform_symptoms',\n",
    "    80: 'inform_symptoms',\n",
    "    81: 'inform_symptoms',\n",
    "    82: 'greeting',\n",
    "    83: 'others', #inform\n",
    "    84: 'greeting',\n",
    "    85: 'inform_symptoms',\n",
    "    86: 'others', #inform\n",
    "    87: 'inform_symptoms',\n",
    "    88: 'inform_symptoms',\n",
    "    89: 'inform_symptoms',\n",
    "    90: 'others', #inform\n",
    "}"
   ]
  },
  {
   "cell_type": "code",
   "execution_count": null,
   "metadata": {
    "collapsed": false,
    "pycharm": {
     "name": "#%%\n"
    }
   },
   "outputs": [],
   "source": [
    "describe_intents(dict_intents, pipeline.data_helper.df)"
   ]
  },
  {
   "cell_type": "code",
   "execution_count": null,
   "metadata": {
    "collapsed": false,
    "pycharm": {
     "name": "#%%\n"
    }
   },
   "outputs": [],
   "source": [
    "pipeline.annotate_data(dict_intents)"
   ]
  },
  {
   "cell_type": "code",
   "execution_count": null,
   "metadata": {
    "pycharm": {
     "name": "#%%\n"
    }
   },
   "outputs": [],
   "source": [
    "pipeline.annotate_data_without_outliers(sub_folder_k='k100_without_outliers/', dict_intents=dict_intents)"
   ]
  },
  {
   "cell_type": "code",
   "execution_count": null,
   "metadata": {
    "collapsed": false,
    "pycharm": {
     "name": "#%%\n"
    }
   },
   "outputs": [],
   "source": [
    "pipeline.annotate_data_without_sentences_higher_than_median(sub_folder_k='k100_without_sentences_higher_than_median/', dict_intents=dict_intents)"
   ]
  },
  {
   "cell_type": "code",
   "execution_count": null,
   "metadata": {
    "collapsed": false,
    "pycharm": {
     "name": "#%%\n"
    }
   },
   "outputs": [],
   "source": []
  }
 ],
 "metadata": {
  "kernelspec": {
   "display_name": "Python 3 (ipykernel)",
   "language": "python",
   "name": "python3"
  },
  "language_info": {
   "codemirror_mode": {
    "name": "ipython",
    "version": 3
   },
   "file_extension": ".py",
   "mimetype": "text/x-python",
   "name": "python",
   "nbconvert_exporter": "python",
   "pygments_lexer": "ipython3",
   "version": "3.9.7"
  }
 },
 "nbformat": 4,
 "nbformat_minor": 1
}
