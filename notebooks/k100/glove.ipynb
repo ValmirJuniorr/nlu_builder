{
 "cells": [
  {
   "cell_type": "code",
   "execution_count": null,
   "metadata": {
    "pycharm": {
     "name": "#%%\n"
    }
   },
   "outputs": [],
   "source": [
    "%load_ext autoreload\n",
    "\n",
    "%autoreload 2"
   ]
  },
  {
   "cell_type": "code",
   "execution_count": null,
   "metadata": {
    "collapsed": false,
    "pycharm": {
     "name": "#%%\n"
    }
   },
   "outputs": [],
   "source": [
    "from src.clustering.pipeline_helper import PipelineHelper, describe_intents"
   ]
  },
  {
   "cell_type": "code",
   "execution_count": null,
   "metadata": {
    "pycharm": {
     "name": "#%%\n"
    }
   },
   "outputs": [],
   "source": [
    "pipeline = PipelineHelper(embedding_name='glove', actor='patient', k=99, sub_folder_k='k100/')\n",
    "\n",
    "pipeline.run_clustering()"
   ]
  },
  {
   "cell_type": "code",
   "execution_count": null,
   "metadata": {
    "pycharm": {
     "name": "#%%\n"
    }
   },
   "outputs": [],
   "source": [
    "pipeline.visualize_distance_distribution()"
   ]
  },
  {
   "cell_type": "code",
   "execution_count": null,
   "metadata": {
    "pycharm": {
     "name": "#%%\n"
    }
   },
   "outputs": [],
   "source": [
    "pipeline.visualize_tsne()"
   ]
  },
  {
   "cell_type": "code",
   "execution_count": null,
   "metadata": {
    "collapsed": false,
    "pycharm": {
     "name": "#%%\n"
    }
   },
   "outputs": [],
   "source": [
    "len(set(pipeline.clustering_helper.get_labels_as_numpy()))"
   ]
  },
  {
   "cell_type": "code",
   "execution_count": null,
   "metadata": {
    "pycharm": {
     "name": "#%%\n"
    },
    "scrolled": true
   },
   "outputs": [],
   "source": [
    "pipeline.visualize_word_clouds()"
   ]
  },
  {
   "cell_type": "code",
   "execution_count": null,
   "metadata": {
    "collapsed": false,
    "pycharm": {
     "name": "#%%\n"
    }
   },
   "outputs": [],
   "source": [
    "dict_intents = {\n",
    "     0: 'others', #mixed\n",
    "     1: 'others', #mixed\n",
    "     2: 'others', #mixed\n",
    "     3: 'others', #mixed\n",
    "     4: 'greeting',\n",
    "     5: 'request_inform',\n",
    "     6: 'request_inform',\n",
    "     7: 'others', #negative\n",
    "     8: 'greeting',\n",
    "     9: 'others', #mixed\n",
    "    10: 'inform_medicine',\n",
    "    11: 'others', #inform\n",
    "    12: 'greeting', #few_sentences\n",
    "    13: 'inform_symptoms',\n",
    "    14: 'others', #mixed\n",
    "    15: 'inform_symptoms',\n",
    "    16: 'others', #inform #negative\n",
    "    17: 'inform_symptoms',\n",
    "    #18: '?', #empty\n",
    "    19: 'request_inform',\n",
    "    20: 'others', #mixed\n",
    "    21: 'inform_symptoms',\n",
    "    #22: '?', #empty\n",
    "    23: 'others', #mixed\n",
    "    24: 'others', #mixed\n",
    "    25: 'greeting',\n",
    "    26: 'inform_symptoms',\n",
    "    27: 'inform_medicine',\n",
    "    28: 'others', #inform #positive\n",
    "    29: 'inform_medicine',\n",
    "    30: 'inform_symptoms',\n",
    "    31: 'others', #mixed\n",
    "    32: 'inform_symptoms',\n",
    "    33: 'inform_symptoms',\n",
    "    34: 'others', #mixed\n",
    "    35: 'inform_symptoms',\n",
    "    36: 'inform_symptoms',\n",
    "    37: 'inform_symptoms',\n",
    "    38: 'inform_symptoms',\n",
    "    39: 'inform_symptoms',\n",
    "    40: 'inform_medicine',\n",
    "    41: 'request_inform',\n",
    "    42: 'inform_symptoms',\n",
    "    43: 'others', #mixed\n",
    "    44: 'inform_medicine',\n",
    "    45: 'greeting',\n",
    "    46: 'inform_symptoms',\n",
    "    47: 'inform_symptoms',\n",
    "    48: 'others', #mixed\n",
    "    49: 'inform_symptoms',\n",
    "    50: 'greeting',\n",
    "    51: 'inform_symptoms',\n",
    "    52: 'greeting',\n",
    "    53: 'inform_symptoms',\n",
    "    54: 'inform_symptoms',\n",
    "    55: 'greeting',\n",
    "    56: 'inform_symptoms',\n",
    "    57: 'inform_symptoms',\n",
    "    58: 'inform_symptoms',\n",
    "    59: 'others', #mixed #few_sentences\n",
    "    60: 'greeting',\n",
    "    61: 'greeting',\n",
    "    62: 'greeting',\n",
    "    63: 'inform_symptoms',\n",
    "    64: 'others', #mixed\n",
    "    65: 'others', #mixed\n",
    "    66: 'others', #mixed\n",
    "    67: 'greeting',\n",
    "    68: 'others', #address\n",
    "    69: 'others', #address\n",
    "    70: 'others', #unknown\n",
    "    71: 'others', #mixed\n",
    "    72: 'others', #mixed\n",
    "    73: 'inform_symptoms',\n",
    "    74: 'others', #mixed\n",
    "    75: 'others', #mixed\n",
    "    76: 'others', #mixed\n",
    "    77: 'others', #mixed #age\n",
    "    78: 'others', #mixed #general\n",
    "    79: 'others', #mixed\n",
    "    80: 'inform_symptoms',\n",
    "    81: 'inform_symptoms',\n",
    "    82: 'greeting',\n",
    "    83: 'others', #mixed\n",
    "    84: 'greeting',\n",
    "    85: 'inform_symptoms',\n",
    "    86: 'inform_symptoms',\n",
    "    87: 'others', #mixed #general\n",
    "    88: 'inform_symptoms',\n",
    "    89: 'inform_symptoms',\n",
    "    90: 'others', #general\n",
    "    91: 'others', #general\n",
    "    92: 'inform_symptoms',\n",
    "    93: 'request_inform',\n",
    "    94: 'inform_symptoms',\n",
    "    95: 'inform_symptoms',\n",
    "    96: 'others', #mixed\n",
    "    97: 'inform_symptoms',\n",
    "    98: 'request_inform',\n",
    "}"
   ]
  },
  {
   "cell_type": "code",
   "execution_count": null,
   "metadata": {
    "collapsed": false,
    "pycharm": {
     "name": "#%%\n"
    }
   },
   "outputs": [],
   "source": [
    "describe_intents(dict_intents, pipeline.data_helper.df)"
   ]
  },
  {
   "cell_type": "code",
   "execution_count": null,
   "metadata": {
    "collapsed": false,
    "pycharm": {
     "name": "#%%\n"
    }
   },
   "outputs": [],
   "source": [
    "pipeline.annotate_data(dict_intents)"
   ]
  },
  {
   "cell_type": "code",
   "execution_count": null,
   "metadata": {
    "collapsed": false,
    "pycharm": {
     "name": "#%%\n"
    }
   },
   "outputs": [],
   "source": [
    "pipeline.annotate_data_without_outliers(sub_folder_k='k100_without_outliers/', dict_intents=dict_intents)"
   ]
  },
  {
   "cell_type": "code",
   "execution_count": null,
   "metadata": {
    "collapsed": false,
    "pycharm": {
     "name": "#%%\n"
    }
   },
   "outputs": [],
   "source": [
    "pipeline.annotate_data_without_sentences_higher_than_median(sub_folder_k='k100_without_sentences_higher_than_median/', dict_intents=dict_intents)"
   ]
  }
 ],
 "metadata": {
  "kernelspec": {
   "display_name": "Python 3 (ipykernel)",
   "language": "python",
   "name": "python3"
  },
  "language_info": {
   "codemirror_mode": {
    "name": "ipython",
    "version": 3
   },
   "file_extension": ".py",
   "mimetype": "text/x-python",
   "name": "python",
   "nbconvert_exporter": "python",
   "pygments_lexer": "ipython3",
   "version": "3.9.7"
  }
 },
 "nbformat": 4,
 "nbformat_minor": 1
}
