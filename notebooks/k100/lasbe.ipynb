{
 "cells": [
  {
   "cell_type": "code",
   "execution_count": null,
   "metadata": {
    "pycharm": {
     "name": "#%%\n"
    }
   },
   "outputs": [],
   "source": [
    "%load_ext autoreload\n",
    "\n",
    "%autoreload 2"
   ]
  },
  {
   "cell_type": "code",
   "execution_count": null,
   "metadata": {
    "collapsed": false,
    "pycharm": {
     "name": "#%%\n"
    }
   },
   "outputs": [],
   "source": [
    "from src.clustering.pipeline_helper import PipelineHelper, describe_intents"
   ]
  },
  {
   "cell_type": "code",
   "execution_count": null,
   "metadata": {
    "pycharm": {
     "name": "#%%\n"
    }
   },
   "outputs": [],
   "source": [
    "pipeline = PipelineHelper(embedding_name='lasbe', actor='patient', k=81, sub_folder_k='k100/')\n",
    "\n",
    "pipeline.run_clustering()"
   ]
  },
  {
   "cell_type": "code",
   "execution_count": null,
   "metadata": {
    "pycharm": {
     "name": "#%%\n"
    }
   },
   "outputs": [],
   "source": [
    "pipeline.visualize_distance_distribution()"
   ]
  },
  {
   "cell_type": "code",
   "execution_count": null,
   "metadata": {
    "pycharm": {
     "name": "#%%\n"
    }
   },
   "outputs": [],
   "source": [
    "pipeline.visualize_tsne()"
   ]
  },
  {
   "cell_type": "code",
   "execution_count": null,
   "metadata": {
    "pycharm": {
     "name": "#%%\n"
    },
    "scrolled": true
   },
   "outputs": [],
   "source": [
    "pipeline.visualize_word_clouds()"
   ]
  },
  {
   "cell_type": "code",
   "execution_count": null,
   "metadata": {
    "collapsed": false,
    "pycharm": {
     "name": "#%%\n"
    }
   },
   "outputs": [],
   "source": [
    "dict_intents = {\n",
    "     0: 'others', #mixed\n",
    "     1: 'inform_symptoms',\n",
    "     2: 'others', #mixed\n",
    "     3: 'others', #inform_when\n",
    "     4: 'others', #mixed\n",
    "     5: 'inform_medicine',\n",
    "     6: 'request_inform',\n",
    "     7: 'greeting',\n",
    "     8: 'inform_medicine',\n",
    "     9: 'others', #mixed\n",
    "    10: 'others', #address\n",
    "    11: 'others', #mixed #symptoms\n",
    "    12: 'others', #mixed #small_sentences\n",
    "    13: 'inform_symptoms',\n",
    "    14: 'inform_symptoms',\n",
    "    15: 'inform_symptoms',\n",
    "    16: 'others', #mixed\n",
    "    17: 'inform_symptoms',\n",
    "    18: 'others', #mixed\n",
    "    19: 'others', #inform #positive\n",
    "    20: 'others', #inform #temperature\n",
    "    21: 'request_inform',\n",
    "    22: 'inform_medicine',\n",
    "    23: 'others', #symptoms\n",
    "    24: 'request_inform',\n",
    "    25: 'others', #mixed\n",
    "    26: 'inform_symptoms',\n",
    "    27: 'inform_symptoms',\n",
    "    28: 'inform_symptoms',\n",
    "    29: 'others', #mixed\n",
    "    30: 'inform_symptoms',\n",
    "    31: 'inform_symptoms',\n",
    "    32: 'others', #general\n",
    "    33: 'inform_symptoms',\n",
    "    34: 'inform_symptoms',\n",
    "    35: 'others', #mixed\n",
    "    36: 'inform_symptoms',\n",
    "    37: 'others', #mixed\n",
    "    38: 'inform_symptoms',\n",
    "    39: 'inform_symptoms',\n",
    "    40: 'inform_medicine',\n",
    "    41: 'request_inform',\n",
    "    42: 'inform_symptoms',\n",
    "    43: 'greeting',\n",
    "    44: 'others', #mixed\n",
    "    45: 'greeting',\n",
    "    46: 'inform_symptoms',\n",
    "    47: 'inform_symptoms',\n",
    "    48: 'inform_symptoms',\n",
    "    49: 'request_inform',\n",
    "    50: 'greeting',\n",
    "    51: 'request_inform',\n",
    "    52: 'greeting',\n",
    "    53: 'inform_medicine',\n",
    "    54: 'inform_symptoms',\n",
    "    55: 'others', #inform_when\n",
    "    56: 'others', #mixed\n",
    "    57: 'others', #mixed\n",
    "    58: 'others', #inform #negative\n",
    "    59: 'inform_symptoms',\n",
    "    60: 'greeting',\n",
    "    61: 'others', #general\n",
    "    62: 'request_inform',\n",
    "    63: 'inform_symptoms',\n",
    "    64: 'request_inform',\n",
    "    65: 'others', #mixed\n",
    "    66: 'others', #general\n",
    "    67: 'greeting',\n",
    "    68: 'others', #names\n",
    "    69: 'inform_medicine',\n",
    "    70: 'others', #mixed\n",
    "    71: 'inform_medicine',\n",
    "    72: 'others', #mixed\n",
    "    73: 'others', #mixed\n",
    "    74: 'others', #inform_better\n",
    "    75: 'inform_symptoms',\n",
    "    76: 'inform_symptoms',\n",
    "    77: 'others', #inform_age\n",
    "    78: 'others', #mixed\n",
    "    79: 'others', #mixed\n",
    "    80: 'inform_symptoms',\n",
    "}"
   ]
  },
  {
   "cell_type": "code",
   "execution_count": null,
   "metadata": {
    "collapsed": false,
    "pycharm": {
     "name": "#%%\n"
    }
   },
   "outputs": [],
   "source": [
    "describe_intents(dict_intents, pipeline.data_helper.df)"
   ]
  },
  {
   "cell_type": "code",
   "execution_count": null,
   "metadata": {
    "collapsed": false,
    "pycharm": {
     "name": "#%%\n"
    }
   },
   "outputs": [],
   "source": [
    "pipeline.annotate_data(dict_intents)"
   ]
  },
  {
   "cell_type": "code",
   "execution_count": null,
   "metadata": {
    "pycharm": {
     "name": "#%%\n"
    }
   },
   "outputs": [],
   "source": [
    "pipeline.annotate_data_without_outliers(sub_folder_k='k100_without_outliers/', dict_intents=dict_intents)"
   ]
  },
  {
   "cell_type": "code",
   "execution_count": null,
   "metadata": {
    "collapsed": false,
    "pycharm": {
     "name": "#%%\n"
    }
   },
   "outputs": [],
   "source": [
    "pipeline.annotate_data_without_sentences_higher_than_median(sub_folder_k='k100_without_sentences_higher_than_median/', dict_intents=dict_intents)"
   ]
  },
  {
   "cell_type": "code",
   "execution_count": null,
   "metadata": {
    "collapsed": false,
    "pycharm": {
     "name": "#%%\n"
    }
   },
   "outputs": [],
   "source": []
  }
 ],
 "metadata": {
  "kernelspec": {
   "display_name": "Python 3 (ipykernel)",
   "language": "python",
   "name": "python3"
  },
  "language_info": {
   "codemirror_mode": {
    "name": "ipython",
    "version": 3
   },
   "file_extension": ".py",
   "mimetype": "text/x-python",
   "name": "python",
   "nbconvert_exporter": "python",
   "pygments_lexer": "ipython3",
   "version": "3.9.7"
  }
 },
 "nbformat": 4,
 "nbformat_minor": 1
}
