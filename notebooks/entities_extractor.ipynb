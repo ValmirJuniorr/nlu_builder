{
 "cells": [
  {
   "cell_type": "code",
   "execution_count": null,
   "metadata": {
    "collapsed": false,
    "pycharm": {
     "name": "#%%\n"
    }
   },
   "outputs": [],
   "source": [
    "import pandas as pd\n",
    "\n",
    "from src.core import file_manager as  fm\n",
    "from src.entity_extraction import pipeline_helper as ph"
   ]
  },
  {
   "cell_type": "code",
   "execution_count": null,
   "metadata": {
    "collapsed": false,
    "pycharm": {
     "name": "#%%\n"
    }
   },
   "outputs": [],
   "source": [
    "pd.options.display.max_rows = 100000\n",
    "pd.set_option('display.max_colwidth', None)"
   ]
  },
  {
   "cell_type": "code",
   "execution_count": null,
   "metadata": {
    "collapsed": false,
    "pycharm": {
     "name": "#%%\n"
    }
   },
   "outputs": [],
   "source": [
    "path_input = fm.filename_from_data_dir('output/patient/clean_sentences.csv')\n",
    "path_output = fm.filename_from_data_dir('output/patient/annotated_sentences.csv')\n",
    "\n",
    "df = ph.run_pipeline(path_input, path_output)\n",
    "\n",
    "df.head()"
   ]
  },
  {
   "cell_type": "code",
   "execution_count": null,
   "metadata": {
    "collapsed": false,
    "pycharm": {
     "name": "#%%\n"
    }
   },
   "outputs": [],
   "source": [
    "!python -V"
   ]
  },
  {
   "cell_type": "code",
   "execution_count": null,
   "metadata": {
    "collapsed": false,
    "pycharm": {
     "name": "#%%\n"
    }
   },
   "outputs": [],
   "source": []
  }
 ],
 "metadata": {
  "colab": {
   "collapsed_sections": [
    "j4czsIMfhdrK",
    "bv-QX-Xti0e1"
   ],
   "name": "Covid_entity_extraction.ipynb",
   "provenance": [
    {
     "file_id": "1IrqIf2LlL2kqvaxrEv5hO_gqq17KG34u",
     "timestamp": 1617632991507
    },
    {
     "file_id": "1ZnDskO4NthlbAIfsyqfTlghc-HxUghJu",
     "timestamp": 1610031267704
    },
    {
     "file_id": "1WFkwD1ChAQ2J9GIIq9uPfxnPRCqQaw9o",
     "timestamp": 1606748253234
    },
    {
     "file_id": "1X5i3tDKCy7DOeLrrYZyc0CnHfM0w49hl",
     "timestamp": 1587746130065
    },
    {
     "file_id": "1M5BTAfo16cwZX_vkWx9RbxAVnUAQX3uY",
     "timestamp": 1587675227657
    },
    {
     "file_id": "1Svj9Cdo4VkuCeBlKAokMqLdojufSS1v_",
     "timestamp": 1587667186364
    }
   ]
  },
  "kernelspec": {
   "display_name": "Python 3",
   "name": "python3"
  }
 },
 "nbformat": 4,
 "nbformat_minor": 0
}
