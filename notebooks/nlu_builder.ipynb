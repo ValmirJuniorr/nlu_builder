{
 "cells": [
  {
   "cell_type": "code",
   "execution_count": null,
   "metadata": {
    "collapsed": false,
    "pycharm": {
     "name": "#%%\n"
    }
   },
   "outputs": [],
   "source": [
    "%load_ext autoreload\n",
    "\n",
    "%autoreload 2"
   ]
  },
  {
   "cell_type": "code",
   "execution_count": null,
   "metadata": {
    "collapsed": false,
    "pycharm": {
     "name": "#%%\n"
    }
   },
   "outputs": [],
   "source": [
    "from src.nlu_builder.scripts import setup_data"
   ]
  },
  {
   "cell_type": "code",
   "execution_count": null,
   "metadata": {
    "collapsed": false,
    "pycharm": {
     "name": "#%%\n"
    }
   },
   "outputs": [],
   "source": [
    "setup_data.run_pipeline( actor='patient', subfolder='k100')"
   ]
  },
  {
   "cell_type": "code",
   "execution_count": null,
   "metadata": {
    "collapsed": false,
    "pycharm": {
     "name": "#%%\n"
    }
   },
   "outputs": [],
   "source": [
    "setup_data.run_pipeline( actor='patient', subfolder='k100_without_outliers')"
   ]
  },
  {
   "cell_type": "code",
   "execution_count": null,
   "metadata": {
    "collapsed": false,
    "pycharm": {
     "name": "#%%\n"
    }
   },
   "outputs": [],
   "source": [
    "setup_data.run_pipeline( actor='patient', subfolder='k100_without_sentences_higher_than_median')"
   ]
  },
  {
   "cell_type": "code",
   "execution_count": null,
   "metadata": {
    "collapsed": false,
    "pycharm": {
     "name": "#%%\n"
    }
   },
   "outputs": [],
   "source": [
    "from pathlib import Path\n",
    "import pandas as pd\n",
    "\n",
    "from src.core import file_manager as fm\n",
    "from src.embeddings.constants import EMBEDDING_MODELS_TRANSLATION\n",
    "\n",
    "def run_for_sub_folder(subfolder):\n",
    "    for model in EMBEDDING_MODELS_TRANSLATION.keys():\n",
    "        path = fm.filename_from_data_dir(f'output/patient/{subfolder}/{model}/annotated_sentences.csv')\n",
    "\n",
    "        output_dir = Path(fm.filename_from_data_dir(f'output/patient/without_others_intent/{subfolder}/{model}'))\n",
    "        output_dir.mkdir(parents=True, exist_ok=True)\n",
    "\n",
    "        df = pd.read_csv(path)\n",
    "\n",
    "        tmp = df[df['intent'] != 'others']\n",
    "\n",
    "        tmp.to_csv(f'{output_dir}/annotated_sentences.csv', index=False)"
   ]
  },
  {
   "cell_type": "code",
   "execution_count": null,
   "metadata": {
    "collapsed": false,
    "pycharm": {
     "name": "#%%\n"
    }
   },
   "outputs": [],
   "source": [
    "run_for_sub_folder(subfolder='k100')\n",
    "run_for_sub_folder(subfolder='k100_without_outliers')\n",
    "run_for_sub_folder(subfolder='k100_without_sentences_higher_than_median')"
   ]
  },
  {
   "cell_type": "code",
   "execution_count": null,
   "metadata": {
    "collapsed": false,
    "pycharm": {
     "name": "#%%\n"
    }
   },
   "outputs": [],
   "source": [
    "setup_data.run_pipeline( actor='patient', subfolder='without_others_intent/k100')"
   ]
  },
  {
   "cell_type": "code",
   "execution_count": null,
   "metadata": {
    "collapsed": false,
    "pycharm": {
     "name": "#%%\n"
    }
   },
   "outputs": [],
   "source": [
    "setup_data.run_pipeline( actor='patient', subfolder='without_others_intent/k100_without_outliers')"
   ]
  },
  {
   "cell_type": "code",
   "execution_count": null,
   "metadata": {
    "collapsed": false,
    "pycharm": {
     "name": "#%%\n"
    }
   },
   "outputs": [],
   "source": [
    "setup_data.run_pipeline( actor='patient', subfolder='without_others_intent/k100_without_sentences_higher_than_median')"
   ]
  },
  {
   "cell_type": "code",
   "execution_count": null,
   "metadata": {
    "collapsed": false,
    "pycharm": {
     "name": "#%%\n"
    }
   },
   "outputs": [],
   "source": []
  }
 ],
 "metadata": {
  "kernelspec": {
   "display_name": "Python 3",
   "language": "python",
   "name": "python3"
  },
  "language_info": {
   "codemirror_mode": {
    "name": "ipython",
    "version": 2
   },
   "file_extension": ".py",
   "mimetype": "text/x-python",
   "name": "python",
   "nbconvert_exporter": "python",
   "pygments_lexer": "ipython2",
   "version": "2.7.6"
  }
 },
 "nbformat": 4,
 "nbformat_minor": 0
}
