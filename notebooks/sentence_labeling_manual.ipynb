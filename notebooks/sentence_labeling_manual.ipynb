{
 "cells": [
  {
   "cell_type": "code",
   "execution_count": null,
   "metadata": {
    "collapsed": false,
    "pycharm": {
     "name": "#%%\n"
    }
   },
   "outputs": [],
   "source": [
    "%load_ext autoreload\n",
    "\n",
    "%autoreload 2"
   ]
  },
  {
   "cell_type": "code",
   "execution_count": null,
   "metadata": {
    "pycharm": {
     "name": "#%%\n"
    }
   },
   "outputs": [],
   "source": [
    "import pandas as pd\n",
    "import numpy as np\n",
    "\n",
    "from src.ml import pipeline\n",
    "from src.core import file_manager"
   ]
  },
  {
   "cell_type": "code",
   "execution_count": null,
   "metadata": {
    "pycharm": {
     "name": "#%%\n"
    }
   },
   "outputs": [],
   "source": [
    "df_annotated = pipeline.get_annotated_df('use')"
   ]
  },
  {
   "cell_type": "code",
   "execution_count": null,
   "metadata": {
    "collapsed": false,
    "pycharm": {
     "name": "#%%\n"
    }
   },
   "outputs": [],
   "source": [
    "random_distances_df  = df_annotated.sample(n=1000, random_state=42)\n",
    "\n",
    "random_distances_df.head()"
   ]
  },
  {
   "cell_type": "code",
   "execution_count": null,
   "metadata": {
    "collapsed": false,
    "pycharm": {
     "name": "#%%\n"
    }
   },
   "outputs": [],
   "source": [
    "random_distances_df['txt'].to_csv(file_manager.filename_from_data_dir('output/sentences_to_classify_all_distances.csv'), index=False)"
   ]
  },
  {
   "cell_type": "code",
   "execution_count": null,
   "metadata": {
    "collapsed": false,
    "pycharm": {
     "name": "#%%\n"
    }
   },
   "outputs": [],
   "source": [
    "sentences_higher_distances = pd.read_csv(file_manager.filename_from_data_dir('output/sentences_to_classify.csv'))"
   ]
  },
  {
   "cell_type": "code",
   "execution_count": null,
   "metadata": {
    "collapsed": false,
    "pycharm": {
     "name": "#%%\n"
    }
   },
   "outputs": [],
   "source": [
    "sentences_higher_distances.head()"
   ]
  },
  {
   "cell_type": "code",
   "execution_count": null,
   "metadata": {
    "collapsed": false,
    "pycharm": {
     "name": "#%%\n"
    }
   },
   "outputs": [],
   "source": [
    "classified_sentences = sentences_higher_distances['txt'].to_numpy()\n",
    "\n",
    "result = [s for s in random_distances_df['txt'].to_numpy() if s in classified_sentences]\n",
    "\n",
    "len(result)"
   ]
  },
  {
   "cell_type": "code",
   "execution_count": null,
   "metadata": {
    "collapsed": false,
    "pycharm": {
     "name": "#%%\n"
    }
   },
   "outputs": [],
   "source": [
    "df_classified_manual = pd.read_csv(file_manager.filename_from_data_dir('output/sentences_classified.csv'))\n",
    "\n",
    "df_classified_manual['label_index'] = df_classified_manual['label'].map(pipeline.dict_labels)\n",
    "\n",
    "df_classified_manual['embeddings'] = df_classified_manual['txt'].map(dict_embeddings)\n",
    "\n",
    "df_classified_manual.drop(['correct_label', 'used_intents', 'intents'], axis=1).head()"
   ]
  },
  {
   "cell_type": "code",
   "execution_count": null,
   "metadata": {
    "collapsed": false,
    "pycharm": {
     "name": "#%%\n"
    }
   },
   "outputs": [],
   "source": [
    "random_distances_df['manual_label'] = df_classified_manual['label'].to_numpy()\n",
    "\n",
    "random_distances_df[['txt', 'intent', 'manual_label', 'distance']].head()"
   ]
  },
  {
   "cell_type": "code",
   "execution_count": null,
   "metadata": {
    "collapsed": false,
    "pycharm": {
     "name": "#%%\n"
    }
   },
   "outputs": [],
   "source": [
    "differences = random_distances_df[random_distances_df.apply(lambda x: x['intent'] == x['manual_label'], axis=1)]\n",
    "\n",
    "print(differences.describe())\n",
    "\n",
    "differences[['txt', 'intent', 'manual_label', 'distance']].head()"
   ]
  },
  {
   "cell_type": "code",
   "execution_count": null,
   "metadata": {
    "collapsed": false,
    "pycharm": {
     "name": "#%%\n"
    }
   },
   "outputs": [],
   "source": [
    "differences = random_distances_df[random_distances_df.apply(lambda x: x['intent'] != x['manual_label'], axis=1)]\n",
    "\n",
    "print(differences.describe())\n",
    "\n",
    "differences[['txt', 'intent', 'manual_label', 'distance']].head(50)"
   ]
  },
  {
   "cell_type": "code",
   "execution_count": null,
   "metadata": {
    "collapsed": false,
    "pycharm": {
     "name": "#%%\n"
    }
   },
   "outputs": [],
   "source": [
    "df_to_predict_manual = pipeline.generate_df_from_x_y(\n",
    "    x_data=df_classified_manual['embeddings'].to_numpy(),\n",
    "    y_data=df_classified_manual['label_index'].to_numpy()\n",
    ")\n",
    "\n",
    "\n",
    "df_to_predict_manual.head(2)"
   ]
  },
  {
   "cell_type": "code",
   "execution_count": null,
   "metadata": {
    "collapsed": false,
    "pycharm": {
     "name": "#%%\n"
    }
   },
   "outputs": [],
   "source": [
    "import h2o\n",
    "\n",
    "h2o.init()"
   ]
  },
  {
   "cell_type": "code",
   "execution_count": null,
   "metadata": {
    "collapsed": false,
    "pycharm": {
     "name": "#%%\n"
    }
   },
   "outputs": [],
   "source": [
    "model_path = file_manager.filename_from_data_dir('output/h2o/models/StackedEnsemble_AllModels_1_AutoML_1_20220428_200646')\n",
    "\n",
    "leader_model = h2o.load_model(model_path)\n",
    "\n",
    "leader_model"
   ]
  },
  {
   "cell_type": "code",
   "execution_count": null,
   "metadata": {
    "collapsed": false,
    "pycharm": {
     "name": "#%%\n"
    }
   },
   "outputs": [],
   "source": [
    "hf_preds_manual= leader_model.predict(h2o.H2OFrame(df_to_predict_manual))\n",
    "\n",
    "predicts_manual = hf_preds_manual.as_data_frame().predict.to_numpy()\n",
    "\n",
    "correct_label_manual = df_to_predict_manual.label.to_numpy()\n",
    "\n",
    "print(len(predicts_manual), len(correct_label_manual))"
   ]
  },
  {
   "cell_type": "code",
   "execution_count": null,
   "metadata": {
    "collapsed": false,
    "pycharm": {
     "name": "#%%\n"
    }
   },
   "outputs": [],
   "source": [
    "correct_predict_manual = np.equal(predicts_manual, correct_label_manual).sum()\n",
    "\n",
    "correct_predict_manual / len(correct_label_manual)"
   ]
  },
  {
   "cell_type": "code",
   "execution_count": null,
   "metadata": {
    "collapsed": false,
    "pycharm": {
     "name": "#%%\n"
    }
   },
   "outputs": [],
   "source": []
  }
 ],
 "metadata": {
  "interpreter": {
   "hash": "da386d383b1a4f2ab977ab0cc371ee70ac9bd2160da3f0bf5cca7f94d497a6a3"
  },
  "kernelspec": {
   "display_name": "Python 3.9.7 ('venv': venv)",
   "language": "python",
   "name": "python3"
  },
  "language_info": {
   "codemirror_mode": {
    "name": "ipython",
    "version": 3
   },
   "file_extension": ".py",
   "mimetype": "text/x-python",
   "name": "python",
   "nbconvert_exporter": "python",
   "pygments_lexer": "ipython3",
   "version": "3.9.7"
  },
  "orig_nbformat": 4
 },
 "nbformat": 4,
 "nbformat_minor": 2
}
